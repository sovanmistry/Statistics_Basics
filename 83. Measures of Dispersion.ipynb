{
 "cells": [
  {
   "cell_type": "markdown",
   "id": "f820b496-078f-4fde-b5d8-a4313a3b82db",
   "metadata": {},
   "source": [
    "                                        Measures of Dispersion Part"
   ]
  },
  {
   "cell_type": "code",
   "execution_count": 9,
   "id": "32a395dc-b916-4152-aa35-b93e778aa7cd",
   "metadata": {},
   "outputs": [],
   "source": [
    "ages_list = [10, 4, 33, 55, 23, 66, 78, 110]"
   ]
  },
  {
   "cell_type": "code",
   "execution_count": 2,
   "id": "ab1fdc27-a701-4932-80c7-37afa4c1c026",
   "metadata": {},
   "outputs": [],
   "source": [
    "import numpy as np"
   ]
  },
  {
   "cell_type": "markdown",
   "id": "3204b35b-3ad4-4386-a6b0-43994a54987c",
   "metadata": {},
   "source": [
    "Mean"
   ]
  },
  {
   "cell_type": "code",
   "execution_count": 10,
   "id": "ee656c94-5621-45b1-889b-f08380a79516",
   "metadata": {},
   "outputs": [
    {
     "data": {
      "text/plain": [
       "47.375"
      ]
     },
     "execution_count": 10,
     "metadata": {},
     "output_type": "execute_result"
    }
   ],
   "source": [
    "np.mean(ages_list)"
   ]
  },
  {
   "cell_type": "markdown",
   "id": "193044b6-cb76-49a2-8edf-578f1cd93784",
   "metadata": {},
   "source": [
    "Variance "
   ]
  },
  {
   "cell_type": "code",
   "execution_count": 11,
   "id": "fe36f9af-95e4-4fbd-9c47-950354a22b69",
   "metadata": {},
   "outputs": [
    {
     "data": {
      "text/plain": [
       "1167.984375"
      ]
     },
     "execution_count": 11,
     "metadata": {},
     "output_type": "execute_result"
    }
   ],
   "source": [
    "np.var(ages_list)"
   ]
  },
  {
   "cell_type": "markdown",
   "id": "4467d72f-96eb-40b9-a285-1f8cdd39a2a2",
   "metadata": {},
   "source": [
    "STD Deviation"
   ]
  },
  {
   "cell_type": "code",
   "execution_count": 12,
   "id": "766ef3b7-412c-4e58-a00f-73c85cc919da",
   "metadata": {},
   "outputs": [
    {
     "data": {
      "text/plain": [
       "34.175786384514986"
      ]
     },
     "execution_count": 12,
     "metadata": {},
     "output_type": "execute_result"
    }
   ],
   "source": [
    "np.std(ages_list)"
   ]
  },
  {
   "cell_type": "markdown",
   "id": "9542bb4a-572a-4e8c-ad12-525fe072f6b8",
   "metadata": {},
   "source": [
    "                                                Plotting it through Seaborn\n"
   ]
  },
  {
   "cell_type": "code",
   "execution_count": 15,
   "id": "b256e656-cb9a-414f-89f9-0b240bf31744",
   "metadata": {},
   "outputs": [
    {
     "data": {
      "text/plain": [
       "<AxesSubplot: ylabel='Count'>"
      ]
     },
     "execution_count": 15,
     "metadata": {},
     "output_type": "execute_result"
    },
    {
     "data": {
      "image/png": "[encoded data removed]",
      "text/plain": [
       "<Figure size 640x480 with 1 Axes>"
      ]
     },
     "metadata": {},
     "output_type": "display_data"
    }
   ],
   "source": [
    "import seaborn as sns\n",
    "sns.histplot (ages_list, kde = True)\n"
   ]
  },
  {
   "cell_type": "code",
   "execution_count": null,
   "id": "d75ecf02-2f38-4ee3-a065-8c09856437e3",
   "metadata": {},
   "outputs": [],
   "source": [
    "\n",
    "\n"
   ]
  },
  {
   "cell_type": "markdown",
   "id": "2d258ef7-8b77-4dcd-9b9f-73a3a652ab8e",
   "metadata": {},
   "source": [
    "                                                Example on DataFrame"
   ]
  },
  {
   "cell_type": "code",
   "execution_count": 16,
   "id": "631ff1d5-441c-4d66-ac13-f1531ab08d31",
   "metadata": {},
   "outputs": [],
   "source": [
    "data = [ [10,20,30], [123, 43,455], [1, 2, 3]]"
   ]
  },
  {
   "cell_type": "code",
   "execution_count": 17,
   "id": "d317120c-815e-47cd-83b9-00195d18cfe2",
   "metadata": {},
   "outputs": [],
   "source": [
    "import pandas as pd"
   ]
  },
  {
   "cell_type": "code",
   "execution_count": 21,
   "id": "a71f2283-fe31-49fa-8076-57ef7d5753cb",
   "metadata": {},
   "outputs": [],
   "source": [
    "df = pd.DataFrame(data, columns=['A', 'B', 'C'])"
   ]
  },
  {
   "cell_type": "code",
   "execution_count": 22,
   "id": "cbba3ae2-26c5-4c2c-881c-5e6be7b9867a",
   "metadata": {},
   "outputs": [
    {
     "data": {
      "text/html": [
       "<div>\n",
       "<style scoped>\n",
       "    .dataframe tbody tr th:only-of-type {\n",
       "        vertical-align: middle;\n",
       "    }\n",
       "\n",
       "    .dataframe tbody tr th {\n",
       "        vertical-align: top;\n",
       "    }\n",
       "\n",
       "    .dataframe thead th {\n",
       "        text-align: right;\n",
       "    }\n",
       "</style>\n",
       "<table border=\"1\" class=\"dataframe\">\n",
       "  <thead>\n",
       "    <tr style=\"text-align: right;\">\n",
       "      <th></th>\n",
       "      <th>A</th>\n",
       "      <th>B</th>\n",
       "      <th>C</th>\n",
       "    </tr>\n",
       "  </thead>\n",
       "  <tbody>\n",
       "    <tr>\n",
       "      <th>0</th>\n",
       "      <td>10</td>\n",
       "      <td>20</td>\n",
       "      <td>30</td>\n",
       "    </tr>\n",
       "    <tr>\n",
       "      <th>1</th>\n",
       "      <td>123</td>\n",
       "      <td>43</td>\n",
       "      <td>455</td>\n",
       "    </tr>\n",
       "    <tr>\n",
       "      <th>2</th>\n",
       "      <td>1</td>\n",
       "      <td>2</td>\n",
       "      <td>3</td>\n",
       "    </tr>\n",
       "  </tbody>\n",
       "</table>\n",
       "</div>"
      ],
      "text/plain": [
       "     A   B    C\n",
       "0   10  20   30\n",
       "1  123  43  455\n",
       "2    1   2    3"
      ]
     },
     "execution_count": 22,
     "metadata": {},
     "output_type": "execute_result"
    }
   ],
   "source": [
    "df.head()"
   ]
  },
  {
   "cell_type": "code",
   "execution_count": 24,
   "id": "4465217e-d0a8-4ffe-b234-5876a4cdd8bd",
   "metadata": {},
   "outputs": [
    {
     "data": {
      "text/plain": [
       "A     4622.333333\n",
       "B      422.333333\n",
       "C    64276.333333\n",
       "dtype: float64"
      ]
     },
     "execution_count": 24,
     "metadata": {},
     "output_type": "execute_result"
    }
   ],
   "source": [
    "#Variance by row wise\n",
    "\n",
    "df.var()"
   ]
  },
  {
   "cell_type": "code",
   "execution_count": 25,
   "id": "c27018c0-b943-475b-aaac-fff8f80ef8d4",
   "metadata": {},
   "outputs": [
    {
     "data": {
      "text/plain": [
       "0      100.0\n",
       "1    47728.0\n",
       "2        1.0\n",
       "dtype: float64"
      ]
     },
     "execution_count": 25,
     "metadata": {},
     "output_type": "execute_result"
    }
   ],
   "source": [
    "#Variance by column wise\n",
    "\n",
    "df.var(axis = 1)"
   ]
  },
  {
   "cell_type": "code",
   "execution_count": null,
   "id": "fbc76f01-2d36-40c3-ad8d-5869018a1a25",
   "metadata": {},
   "outputs": [],
   "source": []
  }
 ],
 "metadata": {
  "kernelspec": {
   "display_name": "Python 3 (ipykernel)",
   "language": "python",
   "name": "python3"
  },
  "language_info": {
   "codemirror_mode": {
    "name": "ipython",
    "version": 3
   },
   "file_extension": ".py",
   "mimetype": "text/x-python",
   "name": "python",
   "nbconvert_exporter": "python",
   "pygments_lexer": "ipython3",
   "version": "3.10.8"
  }
 },
 "nbformat": 4,
 "nbformat_minor": 5
}
