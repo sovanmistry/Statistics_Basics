{
 "cells": [
  {
   "cell_type": "markdown",
   "id": "d88cf5d6-1341-4e0d-90ac-4e8b068dab2e",
   "metadata": {},
   "source": [
    "                                                            F Test"
   ]
  },
  {
   "cell_type": "code",
   "execution_count": 2,
   "id": "12c42351-c046-4dc1-b20c-6cd507566113",
   "metadata": {},
   "outputs": [],
   "source": [
    "#Evidence to say that the two population variances are not equal\n",
    "worker1= [18, 19, 22, 25, 27, 28, 41, 45, 51, 55]\n",
    "worker2= [14, 15, 15, 17, 18, 22, 25, 25, 27, 34]\n"
   ]
  },
  {
   "cell_type": "code",
   "execution_count": 3,
   "id": "8f199f47-cd41-4962-b9c2-e4e720bcf36b",
   "metadata": {},
   "outputs": [
    {
     "data": {
      "text/plain": [
       "4.387122002085506"
      ]
     },
     "execution_count": 3,
     "metadata": {},
     "output_type": "execute_result"
    }
   ],
   "source": [
    "import numpy as np \n",
    "ftest = np.var(worker1)/ np.var(worker2)\n",
    "ftest"
   ]
  },
  {
   "cell_type": "code",
   "execution_count": 5,
   "id": "c0eed701-c9d7-43de-964b-3772d56fe4ee",
   "metadata": {},
   "outputs": [],
   "source": [
    "#degree of freedom & CI\n",
    "\n",
    "significance_value  = 0.05\n",
    "dof1 = len(worker1)-1\n",
    "dof2 = len(worker2)-1"
   ]
  },
  {
   "cell_type": "code",
   "execution_count": 11,
   "id": "2f11705c-ca51-4c33-9069-e47bb7620a3e",
   "metadata": {},
   "outputs": [],
   "source": [
    "#statistics operation\n",
    "import scipy.stats as stat\n",
    "critical_value=stat.f.ppf(q=1-significance_value, dfn=dof1, dfd=dof2)"
   ]
  },
  {
   "cell_type": "code",
   "execution_count": 13,
   "id": "66e43b66-10ee-44fe-badd-1f6e8af34246",
   "metadata": {},
   "outputs": [
    {
     "name": "stdout",
     "output_type": "stream",
     "text": [
      "Reject Null hypothesis\n"
     ]
    }
   ],
   "source": [
    "#check\n",
    "\n",
    "if ftest>critical_value:\n",
    "    print(\"Reject Null hypothesis\")\n",
    "else:\n",
    "    print(\"fail to reject null hypothesis\")"
   ]
  }
 ],
 "metadata": {
  "kernelspec": {
   "display_name": "Python 3 (ipykernel)",
   "language": "python",
   "name": "python3"
  },
  "language_info": {
   "codemirror_mode": {
    "name": "ipython",
    "version": 3
   },
   "file_extension": ".py",
   "mimetype": "text/x-python",
   "name": "python",
   "nbconvert_exporter": "python",
   "pygments_lexer": "ipython3",
   "version": "3.10.8"
  }
 },
 "nbformat": 4,
 "nbformat_minor": 5
}
