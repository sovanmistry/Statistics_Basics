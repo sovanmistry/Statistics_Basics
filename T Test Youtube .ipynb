{
 "cells": [
  {
   "cell_type": "markdown",
   "id": "2ee2e38a-ec6e-41c5-a768-1ee9f4ad67e8",
   "metadata": {},
   "source": [
    "                                            T Test Examples "
   ]
  },
  {
   "cell_type": "markdown",
   "id": "34bf993a-4386-40eb-9733-118300e27312",
   "metadata": {},
   "source": [
    "                                            1 Sample T- Test"
   ]
  },
  {
   "cell_type": "markdown",
   "id": "b2fa4c22-b65b-454b-ad23-3fd94e46ec83",
   "metadata": {},
   "source": [
    "##EXAMPLE 1 \n",
    "\n",
    "predict the sample mean and population mean same (null hypothesis) or not"
   ]
  },
  {
   "cell_type": "code",
   "execution_count": 15,
   "id": "81e9fb4d-93eb-4a18-9936-204b10f31245",
   "metadata": {},
   "outputs": [
    {
     "data": {
      "text/plain": [
       "22"
      ]
     },
     "execution_count": 15,
     "metadata": {},
     "output_type": "execute_result"
    }
   ],
   "source": [
    "# assume our Population : age of students in an university.\n",
    "\n",
    "age = [19,23,21,24,25,26,75,29,32,34,36,43,12,15,17,19,12,90,23,26,29,37]\n",
    "len(age)"
   ]
  },
  {
   "cell_type": "code",
   "execution_count": 4,
   "id": "84904760-d248-4c47-a840-61780634c2d2",
   "metadata": {},
   "outputs": [
    {
     "data": {
      "text/plain": [
       "30.318181818181817"
      ]
     },
     "execution_count": 4,
     "metadata": {},
     "output_type": "execute_result"
    }
   ],
   "source": [
    "import numpy as np\n",
    "\n",
    "#check the population mean\n",
    "age_mean = np.mean(age)\n",
    "age_mean"
   ]
  },
  {
   "cell_type": "code",
   "execution_count": 7,
   "id": "ea6a71bf-0f55-4106-9b3d-bfc09a7b4e9c",
   "metadata": {},
   "outputs": [
    {
     "data": {
      "text/plain": [
       "array([34, 25, 75, 12, 24, 12, 21])"
      ]
     },
     "execution_count": 7,
     "metadata": {},
     "output_type": "execute_result"
    }
   ],
   "source": [
    "#lets pick a sample from the data\n",
    "\n",
    "sample_size = 7\n",
    "age_sample = np.random.choice(age, sample_size)\n",
    "age_sample"
   ]
  },
  {
   "cell_type": "code",
   "execution_count": 8,
   "id": "41d4e62b-fd10-4e1c-b77c-19cf2e1ad3b7",
   "metadata": {},
   "outputs": [],
   "source": [
    "#our moto is to check if our sample mean == population mean or not."
   ]
  },
  {
   "cell_type": "code",
   "execution_count": 9,
   "id": "937843fb-2995-430f-bb34-b7609b35be04",
   "metadata": {},
   "outputs": [],
   "source": [
    "#it's 1 sample t-test\n",
    "\n",
    "from scipy.stats import ttest_1samp"
   ]
  },
  {
   "cell_type": "code",
   "execution_count": 11,
   "id": "e2566529-51b2-4164-87ad-03801221bd13",
   "metadata": {},
   "outputs": [],
   "source": [
    "ttest, p_value = ttest_1samp(age_sample,popmean= 30)"
   ]
  },
  {
   "cell_type": "code",
   "execution_count": 13,
   "id": "5c90cdcb-dc78-4052-ad71-32422f543104",
   "metadata": {},
   "outputs": [
    {
     "name": "stdout",
     "output_type": "stream",
     "text": [
      "0.9069182798416222\n"
     ]
    }
   ],
   "source": [
    "#our task is to check p_value is similar with population mean or not.\n",
    "\n",
    "print(p_value)"
   ]
  },
  {
   "cell_type": "code",
   "execution_count": 14,
   "id": "8ed7bf8c-304b-4c3c-9250-39a5fda33ced",
   "metadata": {},
   "outputs": [
    {
     "name": "stdout",
     "output_type": "stream",
     "text": [
      "failed to reject null hypothisis\n"
     ]
    }
   ],
   "source": [
    "if p_value<0.05: \n",
    "    print(\"Rejecting Null Hypothesis\")\n",
    "else:\n",
    "    print(\"failed to reject null hypothisis\")"
   ]
  },
  {
   "cell_type": "code",
   "execution_count": null,
   "id": "c4d116d0-4508-45e8-afd8-346f38f04459",
   "metadata": {},
   "outputs": [],
   "source": [
    "\n",
    "\n",
    "\n"
   ]
  },
  {
   "cell_type": "markdown",
   "id": "df11e792-28fd-4f82-a2bf-8687c651bac7",
   "metadata": {},
   "source": [
    "##EXAMPLE 2\n",
    "\n",
    "Check if the avg age of class a Students (sample mean) is same is with avg age of entire stundents of a School  (population mean) is same = Null Hypothesis or not"
   ]
  },
  {
   "cell_type": "code",
   "execution_count": 6,
   "id": "cea6acbc-3a16-47c7-972a-54551deff9e3",
   "metadata": {},
   "outputs": [],
   "source": [
    "import numpy as np\n",
    "import pandas as pd\n",
    "import scipy.stats as stats"
   ]
  },
  {
   "cell_type": "code",
   "execution_count": 7,
   "id": "01cf2850-b349-41d7-bdb4-1231134c8d29",
   "metadata": {},
   "outputs": [],
   "source": [
    "school_age = stats.poisson.rvs(mu = 30, size = 1000)\n",
    "class_age  = stats.poisson.rvs(mu = 28, size = 70)"
   ]
  },
  {
   "cell_type": "code",
   "execution_count": 8,
   "id": "288c4df6-768a-4488-b46d-45be77432067",
   "metadata": {},
   "outputs": [],
   "source": [
    "class_mean = class_age.mean()"
   ]
  },
  {
   "cell_type": "code",
   "execution_count": 9,
   "id": "5f87117c-8640-4c35-9649-bdbd0c5a6e8f",
   "metadata": {},
   "outputs": [],
   "source": [
    "ttest, p_value = stats.ttest_1samp(a = class_age,popmean=school_age.mean() )"
   ]
  },
  {
   "cell_type": "code",
   "execution_count": 10,
   "id": "3f40b705-476e-456e-8618-da4f728cfa9d",
   "metadata": {},
   "outputs": [
    {
     "data": {
      "text/plain": [
       "0.003948904128692654"
      ]
     },
     "execution_count": 10,
     "metadata": {},
     "output_type": "execute_result"
    }
   ],
   "source": [
    "p_value"
   ]
  },
  {
   "cell_type": "code",
   "execution_count": 11,
   "id": "cb967c3e-999e-491e-b870-c16b38cc107c",
   "metadata": {},
   "outputs": [
    {
     "data": {
      "text/plain": [
       "29.977"
      ]
     },
     "execution_count": 11,
     "metadata": {},
     "output_type": "execute_result"
    }
   ],
   "source": [
    "#check\n",
    "school_age.mean()"
   ]
  },
  {
   "cell_type": "code",
   "execution_count": 12,
   "id": "32ed104c-2bcf-441a-8c7d-67caae84a585",
   "metadata": {},
   "outputs": [
    {
     "name": "stdout",
     "output_type": "stream",
     "text": [
      "Rejecting Null Hypothesis - Difference in the age of mean\n"
     ]
    }
   ],
   "source": [
    "if p_value<0.05: \n",
    "    print(\"Rejecting Null Hypothesis - Difference in the age of mean\")\n",
    "else:\n",
    "    print(\"failed to reject null hypothisis - No Difference of the age of mean\")"
   ]
  },
  {
   "cell_type": "code",
   "execution_count": null,
   "id": "a3086ec9-d5e4-4f05-9b8c-c15219af01bc",
   "metadata": {},
   "outputs": [],
   "source": [
    "\n",
    "\n",
    "\n"
   ]
  },
  {
   "cell_type": "markdown",
   "id": "eef9e482-9e23-4496-89f9-3f8fd654e7fb",
   "metadata": {},
   "source": [
    "                                                                2 Sample T - Test"
   ]
  },
  {
   "cell_type": "markdown",
   "id": "f7f2b51b-8655-4aa6-99f6-dea78636ef90",
   "metadata": {},
   "source": [
    "Two Sample T test : \n",
    "    it compares the mean of 2 independent groups in order to determine whether there is a statistical evidence that the associated population mean are significantly different "
   ]
  },
  {
   "cell_type": "code",
   "execution_count": 40,
   "id": "179f5ab1-f83e-43ad-8411-da9a60f38853",
   "metadata": {},
   "outputs": [
    {
     "data": {
      "text/plain": [
       "27.67142857142857"
      ]
     },
     "execution_count": 40,
     "metadata": {},
     "output_type": "execute_result"
    }
   ],
   "source": [
    "classA_age  = stats.poisson.rvs(mu = 28, size = 70)\n",
    "classA_age.mean()"
   ]
  },
  {
   "cell_type": "code",
   "execution_count": 41,
   "id": "4f96a385-5e3f-4aa4-91e7-33d0c18362be",
   "metadata": {},
   "outputs": [
    {
     "data": {
      "text/plain": [
       "33.53333333333333"
      ]
     },
     "execution_count": 41,
     "metadata": {},
     "output_type": "execute_result"
    }
   ],
   "source": [
    "classB_age  = stats.poisson.rvs(mu = 33, size = 30)\n",
    "classB_age.mean()"
   ]
  },
  {
   "cell_type": "code",
   "execution_count": 51,
   "id": "d3c2b8ad-e2e2-4999-83e4-577f39e449a6",
   "metadata": {},
   "outputs": [],
   "source": [
    "ttest, p_value = stats.ttest_ind(a = classA_age, b = classB_age, equal_var=False)"
   ]
  },
  {
   "cell_type": "code",
   "execution_count": 52,
   "id": "99ac653b-7786-4945-8966-d4ed2fba6097",
   "metadata": {},
   "outputs": [
    {
     "data": {
      "text/plain": [
       "1.3931366979308027e-05"
      ]
     },
     "execution_count": 52,
     "metadata": {},
     "output_type": "execute_result"
    }
   ],
   "source": [
    "p_value"
   ]
  },
  {
   "cell_type": "code",
   "execution_count": 53,
   "id": "b627f73b-14ad-4ed9-a5ce-69c949ce6f5d",
   "metadata": {},
   "outputs": [
    {
     "name": "stdout",
     "output_type": "stream",
     "text": [
      "Rejecting Null Hypothesis - age of class a and b is different\n"
     ]
    }
   ],
   "source": [
    "if p_value<0.05: \n",
    "    print(\"Rejecting Null Hypothesis - age of class a and b is different\")\n",
    "else:\n",
    "    print(\"failed to reject null hypothisis - age of class a and b is same\")"
   ]
  },
  {
   "cell_type": "code",
   "execution_count": null,
   "id": "ab6ebdef-a31e-4089-bf7a-3b67cc59411d",
   "metadata": {},
   "outputs": [],
   "source": [
    "\n",
    "\n"
   ]
  },
  {
   "cell_type": "markdown",
   "id": "4af4140c-2433-4ebd-8712-e8663bb69e7d",
   "metadata": {},
   "source": [
    "Paired T Test"
   ]
  },
  {
   "cell_type": "code",
   "execution_count": 58,
   "id": "95bd61be-d2e9-40e7-923d-fd192b55679d",
   "metadata": {},
   "outputs": [],
   "source": [
    "age1 = [19,23,21,24,25,26,75,29,32,34,36,43,12,15,17,19,12,90,23,26,29,37]\n",
    "age2 = age1 + stats.norm.rvs(scale = 5, loc = 1.5, size = 22)"
   ]
  },
  {
   "cell_type": "code",
   "execution_count": 59,
   "id": "9a395607-3372-49ca-868e-a4182d7e509a",
   "metadata": {},
   "outputs": [
    {
     "data": {
      "text/plain": [
       "array([15.30552158, 29.58347121, 19.78310666, 21.85424513, 24.0158931 ,\n",
       "       29.36867214, 88.71655232, 34.87744926, 37.54642167, 40.73242032,\n",
       "       40.10647132, 45.81397281,  9.39693451,  7.38377694, 21.66475576,\n",
       "       18.57645064,  8.05924911, 87.82512314, 19.46779313, 30.15733867,\n",
       "       31.03398507, 38.80697046])"
      ]
     },
     "execution_count": 59,
     "metadata": {},
     "output_type": "execute_result"
    }
   ],
   "source": [
    "age2"
   ]
  },
  {
   "cell_type": "code",
   "execution_count": 63,
   "id": "723d1a39-2aba-4c5a-a2b4-86164a92cb99",
   "metadata": {},
   "outputs": [
    {
     "data": {
      "text/html": [
       "<div>\n",
       "<style scoped>\n",
       "    .dataframe tbody tr th:only-of-type {\n",
       "        vertical-align: middle;\n",
       "    }\n",
       "\n",
       "    .dataframe tbody tr th {\n",
       "        vertical-align: top;\n",
       "    }\n",
       "\n",
       "    .dataframe thead th {\n",
       "        text-align: right;\n",
       "    }\n",
       "</style>\n",
       "<table border=\"1\" class=\"dataframe\">\n",
       "  <thead>\n",
       "    <tr style=\"text-align: right;\">\n",
       "      <th></th>\n",
       "      <th>age initial</th>\n",
       "      <th>age final</th>\n",
       "      <th>Diff</th>\n",
       "    </tr>\n",
       "  </thead>\n",
       "  <tbody>\n",
       "    <tr>\n",
       "      <th>0</th>\n",
       "      <td>19</td>\n",
       "      <td>15.305522</td>\n",
       "      <td>-3.694478</td>\n",
       "    </tr>\n",
       "    <tr>\n",
       "      <th>1</th>\n",
       "      <td>23</td>\n",
       "      <td>29.583471</td>\n",
       "      <td>6.583471</td>\n",
       "    </tr>\n",
       "    <tr>\n",
       "      <th>2</th>\n",
       "      <td>21</td>\n",
       "      <td>19.783107</td>\n",
       "      <td>-1.216893</td>\n",
       "    </tr>\n",
       "    <tr>\n",
       "      <th>3</th>\n",
       "      <td>24</td>\n",
       "      <td>21.854245</td>\n",
       "      <td>-2.145755</td>\n",
       "    </tr>\n",
       "    <tr>\n",
       "      <th>4</th>\n",
       "      <td>25</td>\n",
       "      <td>24.015893</td>\n",
       "      <td>-0.984107</td>\n",
       "    </tr>\n",
       "  </tbody>\n",
       "</table>\n",
       "</div>"
      ],
      "text/plain": [
       "   age initial  age final      Diff\n",
       "0           19  15.305522 -3.694478\n",
       "1           23  29.583471  6.583471\n",
       "2           21  19.783107 -1.216893\n",
       "3           24  21.854245 -2.145755\n",
       "4           25  24.015893 -0.984107"
      ]
     },
     "execution_count": 63,
     "metadata": {},
     "output_type": "execute_result"
    }
   ],
   "source": [
    "weight_df = pd.DataFrame({\"age initial\" : age1, \"age final\" : age2, 'Diff' : age2-age1})\n",
    "weight_df.head()"
   ]
  },
  {
   "cell_type": "code",
   "execution_count": 64,
   "id": "ca677c5f-be79-4e18-bd5d-3f8dcbcac7cb",
   "metadata": {},
   "outputs": [],
   "source": [
    "ttest, p_value = stats.ttest_rel(a = weight_df['age initial'], b = weight_df['age final'] )"
   ]
  },
  {
   "cell_type": "code",
   "execution_count": 65,
   "id": "576cd235-80e8-4a35-bd1e-07a27b134e52",
   "metadata": {},
   "outputs": [
    {
     "data": {
      "text/plain": [
       "0.16048114480304948"
      ]
     },
     "execution_count": 65,
     "metadata": {},
     "output_type": "execute_result"
    }
   ],
   "source": [
    "p_value"
   ]
  },
  {
   "cell_type": "code",
   "execution_count": 66,
   "id": "ab66ff2f-4fd9-4973-a13b-dbb603ccafd6",
   "metadata": {},
   "outputs": [
    {
     "name": "stdout",
     "output_type": "stream",
     "text": [
      "failed to reject null hypothisis \n"
     ]
    }
   ],
   "source": [
    "if p_value<0.05: \n",
    "    print(\"Rejecting Null Hypothesis \")\n",
    "else:\n",
    "    print(\"failed to reject null hypothisis \")"
   ]
  }
 ],
 "metadata": {
  "kernelspec": {
   "display_name": "Python 3 (ipykernel)",
   "language": "python",
   "name": "python3"
  },
  "language_info": {
   "codemirror_mode": {
    "name": "ipython",
    "version": 3
   },
   "file_extension": ".py",
   "mimetype": "text/x-python",
   "name": "python",
   "nbconvert_exporter": "python",
   "pygments_lexer": "ipython3",
   "version": "3.10.8"
  }
 },
 "nbformat": 4,
 "nbformat_minor": 5
}
