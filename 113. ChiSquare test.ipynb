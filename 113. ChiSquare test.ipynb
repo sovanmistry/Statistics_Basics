{
 "cells": [
  {
   "cell_type": "markdown",
   "id": "d58a3823-6f6a-4f1e-a60a-8b97e22dad49",
   "metadata": {},
   "source": [
    "                                                Chi Square Test"
   ]
  },
  {
   "cell_type": "code",
   "execution_count": 1,
   "id": "04e543e4-cbfe-4353-b580-b54235a7c7c6",
   "metadata": {},
   "outputs": [],
   "source": [
    "import scipy.stats as stat"
   ]
  },
  {
   "cell_type": "code",
   "execution_count": 2,
   "id": "853b4905-e8db-4a80-97dd-0ada53df1a02",
   "metadata": {},
   "outputs": [],
   "source": [
    "import numpy as np"
   ]
  },
  {
   "cell_type": "code",
   "execution_count": 6,
   "id": "e5b2e89c-baae-4c0c-aa28-80ec2c948dde",
   "metadata": {},
   "outputs": [],
   "source": [
    "#No of hours of study  in weekly basis \n",
    "\n",
    "expected_data = [4,5,7,6,8,14,2]\n",
    "observed_data = [6,7,4,7,6,9,7]"
   ]
  },
  {
   "cell_type": "code",
   "execution_count": 7,
   "id": "dc1efe77-f39c-4da3-986e-e03373208846",
   "metadata": {},
   "outputs": [
    {
     "data": {
      "text/plain": [
       "46"
      ]
     },
     "execution_count": 7,
     "metadata": {},
     "output_type": "execute_result"
    }
   ],
   "source": [
    "sum(observed_data)"
   ]
  },
  {
   "cell_type": "code",
   "execution_count": 5,
   "id": "985ddd7a-530e-45e4-b449-057a7b4f4bed",
   "metadata": {},
   "outputs": [
    {
     "data": {
      "text/plain": [
       "46"
      ]
     },
     "execution_count": 5,
     "metadata": {},
     "output_type": "execute_result"
    }
   ],
   "source": [
    "sum(expected_data)"
   ]
  },
  {
   "cell_type": "code",
   "execution_count": 10,
   "id": "edfabe24-fd51-4059-a7c6-d110c5dbabbf",
   "metadata": {},
   "outputs": [
    {
     "data": {
      "text/plain": [
       "(10.646825396825397, 0.09992450196918887)"
      ]
     },
     "execution_count": 10,
     "metadata": {},
     "output_type": "execute_result"
    }
   ],
   "source": [
    "#chi square fit goodness of fit test \n",
    "\n",
    "chi_square_test_statistic, pvalue = stat.chisquare(expected_data, observed_data)\n",
    "chi_square_test_statistic, pvalue"
   ]
  },
  {
   "cell_type": "code",
   "execution_count": 13,
   "id": "e21bb2a8-fe9e-4462-b8df-89672c352f54",
   "metadata": {},
   "outputs": [
    {
     "data": {
      "text/plain": [
       "1.6353828943279072"
      ]
     },
     "execution_count": 13,
     "metadata": {},
     "output_type": "execute_result"
    }
   ],
   "source": [
    "#find the critical value \n",
    "significance_value_alpha = 0.95\n",
    "dof = len(observed_data)-1\n",
    "critical_value = stat.chi2.ppf(1-significance_value_alpha, dof)\n",
    "critical_value"
   ]
  },
  {
   "cell_type": "code",
   "execution_count": 14,
   "id": "9ddd5ae1-2ef8-4f9d-aaa5-742428559c70",
   "metadata": {},
   "outputs": [
    {
     "name": "stdout",
     "output_type": "stream",
     "text": [
      "Reject the Null Hypothesis\n"
     ]
    }
   ],
   "source": [
    "#condition\n",
    "\n",
    "if chi_square_test_statistic>critical_value : \n",
    "    print(\"Reject the Null Hypothesis\")\n",
    "    \n",
    "else: \n",
    "    print( \"failed to reject the null hypothesis\")\n",
    "    "
   ]
  },
  {
   "cell_type": "code",
   "execution_count": null,
   "id": "ca20a4aa-c65e-4e6a-9921-8251866ea4a5",
   "metadata": {},
   "outputs": [],
   "source": []
  }
 ],
 "metadata": {
  "kernelspec": {
   "display_name": "Python 3 (ipykernel)",
   "language": "python",
   "name": "python3"
  },
  "language_info": {
   "codemirror_mode": {
    "name": "ipython",
    "version": 3
   },
   "file_extension": ".py",
   "mimetype": "text/x-python",
   "name": "python",
   "nbconvert_exporter": "python",
   "pygments_lexer": "ipython3",
   "version": "3.10.8"
  }
 },
 "nbformat": 4,
 "nbformat_minor": 5
}
